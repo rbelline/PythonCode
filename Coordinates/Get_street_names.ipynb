{
  "cells": [
    {
      "cell_type": "markdown",
      "metadata": {
        "id": "U6kOzS2aqPzP"
      },
      "source": [
        "# Data Exploration"
      ]
    },
    {
      "cell_type": "code",
      "execution_count": 118,
      "metadata": {
        "id": "OP6f5qsK1x5q"
      },
      "outputs": [
        {
          "name": "stdout",
          "output_type": "stream",
          "text": [
            "Requirement already satisfied: xlsxwriter in /Users/riccardobellinello/opt/miniconda3/envs/data_analysis1/lib/python3.9/site-packages (3.0.3)\n",
            "Note: you may need to restart the kernel to use updated packages.\n"
          ]
        }
      ],
      "source": [
        "pip install xlsxwriter"
      ]
    },
    {
      "cell_type": "code",
      "execution_count": 119,
      "metadata": {},
      "outputs": [
        {
          "name": "stdout",
          "output_type": "stream",
          "text": [
            "Requirement already satisfied: geopy in /Users/riccardobellinello/opt/miniconda3/envs/data_analysis1/lib/python3.9/site-packages (2.2.0)\n",
            "Requirement already satisfied: geographiclib<2,>=1.49 in /Users/riccardobellinello/opt/miniconda3/envs/data_analysis1/lib/python3.9/site-packages (from geopy) (1.52)\n",
            "Note: you may need to restart the kernel to use updated packages.\n"
          ]
        }
      ],
      "source": [
        "pip install geopy"
      ]
    },
    {
      "cell_type": "code",
      "execution_count": 120,
      "metadata": {
        "id": "4e15iSI1Aa7-"
      },
      "outputs": [],
      "source": [
        "# import module\n",
        "from geopy.geocoders import Nominatim\n",
        "import os\n",
        "import pandas as pd\n",
        "import geopy.distance\n",
        "from math import sin, cos, sqrt, atan2, radians\n",
        "import xlsxwriter"
      ]
    },
    {
      "cell_type": "code",
      "execution_count": 121,
      "metadata": {
        "id": "V3ee3wvEAiV2"
      },
      "outputs": [],
      "source": [
        "# initialize Nominatim API \n",
        "geolocator = Nominatim(user_agent=\"geoapiExercises\")"
      ]
    },
    {
      "cell_type": "code",
      "execution_count": 122,
      "metadata": {
        "colab": {
          "base_uri": "https://localhost:8080/"
        },
        "id": "Y2Jy0-ajAsm1",
        "outputId": "9af110f0-463b-4b15-ace0-79fb97a16efd"
      },
      "outputs": [
        {
          "name": "stdout",
          "output_type": "stream",
          "text": [
            "17/1, Via Paolo Borsellino, Granarolo dell'Emilia, Unione Terre di Pianura, Bologna, Emilia-Romagna, 40057, Italia\n"
          ]
        }
      ],
      "source": [
        "# Latitude & Longitude input\n",
        "Latitude = \"44.553383\"\n",
        "Longitude = \"11.442923\"\n",
        "  \n",
        "location = geolocator.reverse(Latitude+\",\"+Longitude)\n",
        "  \n",
        "# Display\n",
        "print(location)"
      ]
    },
    {
      "cell_type": "code",
      "execution_count": 123,
      "metadata": {
        "colab": {
          "base_uri": "https://localhost:8080/"
        },
        "id": "-jIrjLJCA_oO",
        "outputId": "ff622caa-6c2f-46a4-9722-8f18cf47e00f"
      },
      "outputs": [
        {
          "name": "stdout",
          "output_type": "stream",
          "text": [
            "{'house_number': '17/1', 'road': 'Via Paolo Borsellino', 'city': \"Granarolo dell'Emilia\", 'municipality': 'Unione Terre di Pianura', 'county': 'Bologna', 'state': 'Emilia-Romagna', 'ISO3166-2-lvl4': 'IT-45', 'postcode': '40057', 'country': 'Italia', 'country_code': 'it'}\n"
          ]
        }
      ],
      "source": [
        "# Get the information from the given list and parsed into a dictionary with raw function\n",
        "address = location.raw['address']\n",
        "print(address)"
      ]
    },
    {
      "cell_type": "code",
      "execution_count": 124,
      "metadata": {
        "colab": {
          "base_uri": "https://localhost:8080/"
        },
        "id": "ERtiH9D2B9vi",
        "outputId": "b9f7a355-1c73-417f-d7a0-eb99f75a27f2"
      },
      "outputs": [
        {
          "name": "stdout",
          "output_type": "stream",
          "text": [
            "Città: Granarolo dell'Emilia\n",
            "Via: Via Paolo Borsellino\n"
          ]
        }
      ],
      "source": [
        "# Get the city and the street\n",
        "citta = address.get('city')\n",
        "via = address.get('road')\n",
        "print(\"Città:\", citta)\n",
        "print(\"Via:\", via)"
      ]
    },
    {
      "cell_type": "code",
      "execution_count": 125,
      "metadata": {},
      "outputs": [
        {
          "name": "stdout",
          "output_type": "stream",
          "text": [
            "/Users/riccardobellinello/Documents/Lavoro/Data Analysis/Coordinates\n"
          ]
        }
      ],
      "source": [
        "path = os.getcwd()\n",
        "# os.chdir('/content/dati_xls')\n",
        "print(path)"
      ]
    },
    {
      "cell_type": "code",
      "execution_count": 126,
      "metadata": {
        "colab": {
          "base_uri": "https://localhost:8080/"
        },
        "id": "z0MLGUbrLM99",
        "outputId": "e791b004-fa7c-4170-d5cb-7f6bb6876656"
      },
      "outputs": [
        {
          "data": {
            "text/plain": [
              "['Coordinates.xlsx', 'Get_street_names.ipynb', 'results.xlsx']"
            ]
          },
          "execution_count": 126,
          "metadata": {},
          "output_type": "execute_result"
        }
      ],
      "source": [
        "os.listdir(path)"
      ]
    },
    {
      "cell_type": "markdown",
      "metadata": {
        "id": "rh0oQ8ZrqYAg"
      },
      "source": [
        "# Data Manipulation"
      ]
    },
    {
      "cell_type": "code",
      "execution_count": 127,
      "metadata": {
        "colab": {
          "base_uri": "https://localhost:8080/",
          "height": 206
        },
        "id": "Rs0Kei-_LSv7",
        "outputId": "0451e94f-48ec-455a-e72b-6eac8f01e338"
      },
      "outputs": [
        {
          "data": {
            "text/html": [
              "<div>\n",
              "<style scoped>\n",
              "    .dataframe tbody tr th:only-of-type {\n",
              "        vertical-align: middle;\n",
              "    }\n",
              "\n",
              "    .dataframe tbody tr th {\n",
              "        vertical-align: top;\n",
              "    }\n",
              "\n",
              "    .dataframe thead th {\n",
              "        text-align: right;\n",
              "    }\n",
              "</style>\n",
              "<table border=\"1\" class=\"dataframe\">\n",
              "  <thead>\n",
              "    <tr style=\"text-align: right;\">\n",
              "      <th></th>\n",
              "      <th>Id</th>\n",
              "      <th>cordinates1</th>\n",
              "      <th>cordinates2</th>\n",
              "    </tr>\n",
              "  </thead>\n",
              "  <tbody>\n",
              "    <tr>\n",
              "      <th>0</th>\n",
              "      <td>1</td>\n",
              "      <td>44.63132962647193, 11.339471589730946</td>\n",
              "      <td>44.64634972248713, 11.37285972672916</td>\n",
              "    </tr>\n",
              "    <tr>\n",
              "      <th>1</th>\n",
              "      <td>2</td>\n",
              "      <td>44.62351076751276, 11.334665071393154</td>\n",
              "      <td>44.6505630484293, 11.378524552402936</td>\n",
              "    </tr>\n",
              "    <tr>\n",
              "      <th>2</th>\n",
              "      <td>3</td>\n",
              "      <td>44.626015360421746, 11.317627680499378</td>\n",
              "      <td>44.653799163601455, 11.374705087189843</td>\n",
              "    </tr>\n",
              "    <tr>\n",
              "      <th>3</th>\n",
              "      <td>4</td>\n",
              "      <td>44.63657851360287, 11.310847056415707</td>\n",
              "      <td>44.65364840503052, 11.322882840901768</td>\n",
              "    </tr>\n",
              "    <tr>\n",
              "      <th>4</th>\n",
              "      <td>5</td>\n",
              "      <td>44.64186127782942, 11.353504907351091</td>\n",
              "      <td>44.662920730180915, 11.286158036721273</td>\n",
              "    </tr>\n",
              "  </tbody>\n",
              "</table>\n",
              "</div>"
            ],
            "text/plain": [
              "   Id                             cordinates1  \\\n",
              "0   1   44.63132962647193, 11.339471589730946   \n",
              "1   2   44.62351076751276, 11.334665071393154   \n",
              "2   3  44.626015360421746, 11.317627680499378   \n",
              "3   4   44.63657851360287, 11.310847056415707   \n",
              "4   5   44.64186127782942, 11.353504907351091   \n",
              "\n",
              "                              cordinates2  \n",
              "0    44.64634972248713, 11.37285972672916  \n",
              "1    44.6505630484293, 11.378524552402936  \n",
              "2  44.653799163601455, 11.374705087189843  \n",
              "3   44.65364840503052, 11.322882840901768  \n",
              "4  44.662920730180915, 11.286158036721273  "
            ]
          },
          "execution_count": 127,
          "metadata": {},
          "output_type": "execute_result"
        }
      ],
      "source": [
        "df = pd.read_excel('Coordinates.xlsx', index_col=None)\n",
        "df.head()"
      ]
    },
    {
      "cell_type": "code",
      "execution_count": 128,
      "metadata": {
        "colab": {
          "base_uri": "https://localhost:8080/"
        },
        "id": "dSGx3c8o-88K",
        "outputId": "01cba32d-78e9-4259-f614-d6fca994877e"
      },
      "outputs": [
        {
          "name": "stdout",
          "output_type": "stream",
          "text": [
            "   Id                             cordinates1  \\\n",
            "0   1   44.63132962647193, 11.339471589730946   \n",
            "1   2   44.62351076751276, 11.334665071393154   \n",
            "2   3  44.626015360421746, 11.317627680499378   \n",
            "3   4   44.63657851360287, 11.310847056415707   \n",
            "4   5   44.64186127782942, 11.353504907351091   \n",
            "\n",
            "                              cordinates2 citta via citta1 via1  \n",
            "0    44.64634972248713, 11.37285972672916                        \n",
            "1    44.6505630484293, 11.378524552402936                        \n",
            "2  44.653799163601455, 11.374705087189843                        \n",
            "3   44.65364840503052, 11.322882840901768                        \n",
            "4  44.662920730180915, 11.286158036721273                        \n"
          ]
        }
      ],
      "source": [
        "df['citta'] = \"\"\n",
        "df['via'] = \"\"\n",
        "df['citta1'] = \"\"\n",
        "df['via1'] = \"\"\n",
        "print(df.head())"
      ]
    },
    {
      "cell_type": "code",
      "execution_count": 129,
      "metadata": {
        "colab": {
          "base_uri": "https://localhost:8080/",
          "height": 386
        },
        "id": "x-ZqClihmiUn",
        "outputId": "43756523-86de-49ec-d945-3508baabc098"
      },
      "outputs": [
        {
          "data": {
            "text/html": [
              "<div>\n",
              "<style scoped>\n",
              "    .dataframe tbody tr th:only-of-type {\n",
              "        vertical-align: middle;\n",
              "    }\n",
              "\n",
              "    .dataframe tbody tr th {\n",
              "        vertical-align: top;\n",
              "    }\n",
              "\n",
              "    .dataframe thead th {\n",
              "        text-align: right;\n",
              "    }\n",
              "</style>\n",
              "<table border=\"1\" class=\"dataframe\">\n",
              "  <thead>\n",
              "    <tr style=\"text-align: right;\">\n",
              "      <th></th>\n",
              "      <th>cordinates1</th>\n",
              "      <th>cordinates2</th>\n",
              "      <th>citta</th>\n",
              "      <th>via</th>\n",
              "      <th>citta1</th>\n",
              "      <th>via1</th>\n",
              "      <th>latitude1</th>\n",
              "      <th>longitude1</th>\n",
              "      <th>latitude2</th>\n",
              "      <th>longitude2</th>\n",
              "    </tr>\n",
              "  </thead>\n",
              "  <tbody>\n",
              "    <tr>\n",
              "      <th>0</th>\n",
              "      <td>44.63132962647193, 11.339471589730946</td>\n",
              "      <td>44.64634972248713, 11.37285972672916</td>\n",
              "      <td></td>\n",
              "      <td></td>\n",
              "      <td></td>\n",
              "      <td></td>\n",
              "      <td>44.63132962647193</td>\n",
              "      <td>11.339471589730946</td>\n",
              "      <td>44.64634972248713</td>\n",
              "      <td>11.37285972672916</td>\n",
              "    </tr>\n",
              "    <tr>\n",
              "      <th>1</th>\n",
              "      <td>44.62351076751276, 11.334665071393154</td>\n",
              "      <td>44.6505630484293, 11.378524552402936</td>\n",
              "      <td></td>\n",
              "      <td></td>\n",
              "      <td></td>\n",
              "      <td></td>\n",
              "      <td>44.62351076751276</td>\n",
              "      <td>11.334665071393154</td>\n",
              "      <td>44.6505630484293</td>\n",
              "      <td>11.378524552402936</td>\n",
              "    </tr>\n",
              "    <tr>\n",
              "      <th>2</th>\n",
              "      <td>44.626015360421746, 11.317627680499378</td>\n",
              "      <td>44.653799163601455, 11.374705087189843</td>\n",
              "      <td></td>\n",
              "      <td></td>\n",
              "      <td></td>\n",
              "      <td></td>\n",
              "      <td>44.626015360421746</td>\n",
              "      <td>11.317627680499378</td>\n",
              "      <td>44.653799163601455</td>\n",
              "      <td>11.374705087189843</td>\n",
              "    </tr>\n",
              "    <tr>\n",
              "      <th>3</th>\n",
              "      <td>44.63657851360287, 11.310847056415707</td>\n",
              "      <td>44.65364840503052, 11.322882840901768</td>\n",
              "      <td></td>\n",
              "      <td></td>\n",
              "      <td></td>\n",
              "      <td></td>\n",
              "      <td>44.63657851360287</td>\n",
              "      <td>11.310847056415707</td>\n",
              "      <td>44.65364840503052</td>\n",
              "      <td>11.322882840901768</td>\n",
              "    </tr>\n",
              "    <tr>\n",
              "      <th>4</th>\n",
              "      <td>44.64186127782942, 11.353504907351091</td>\n",
              "      <td>44.662920730180915, 11.286158036721273</td>\n",
              "      <td></td>\n",
              "      <td></td>\n",
              "      <td></td>\n",
              "      <td></td>\n",
              "      <td>44.64186127782942</td>\n",
              "      <td>11.353504907351091</td>\n",
              "      <td>44.662920730180915</td>\n",
              "      <td>11.286158036721273</td>\n",
              "    </tr>\n",
              "  </tbody>\n",
              "</table>\n",
              "</div>"
            ],
            "text/plain": [
              "                              cordinates1  \\\n",
              "0   44.63132962647193, 11.339471589730946   \n",
              "1   44.62351076751276, 11.334665071393154   \n",
              "2  44.626015360421746, 11.317627680499378   \n",
              "3   44.63657851360287, 11.310847056415707   \n",
              "4   44.64186127782942, 11.353504907351091   \n",
              "\n",
              "                              cordinates2 citta via citta1 via1  \\\n",
              "0    44.64634972248713, 11.37285972672916                         \n",
              "1    44.6505630484293, 11.378524552402936                         \n",
              "2  44.653799163601455, 11.374705087189843                         \n",
              "3   44.65364840503052, 11.322882840901768                         \n",
              "4  44.662920730180915, 11.286158036721273                         \n",
              "\n",
              "            latitude1          longitude1           latitude2  \\\n",
              "0   44.63132962647193  11.339471589730946   44.64634972248713   \n",
              "1   44.62351076751276  11.334665071393154    44.6505630484293   \n",
              "2  44.626015360421746  11.317627680499378  44.653799163601455   \n",
              "3   44.63657851360287  11.310847056415707   44.65364840503052   \n",
              "4   44.64186127782942  11.353504907351091  44.662920730180915   \n",
              "\n",
              "           longitude2  \n",
              "0   11.37285972672916  \n",
              "1  11.378524552402936  \n",
              "2  11.374705087189843  \n",
              "3  11.322882840901768  \n",
              "4  11.286158036721273  "
            ]
          },
          "execution_count": 129,
          "metadata": {},
          "output_type": "execute_result"
        }
      ],
      "source": [
        "# Split columns cordinates1 and cordinates2 by comma\n",
        "\n",
        "df[['latitude1', 'longitude1']] = df['cordinates1'].str.split(', ', expand = True)\n",
        "df[['latitude2', 'longitude2']] = df['cordinates2'].str.split(', ', expand = True)\n",
        "df[['cordinates1',\t'cordinates2', 'citta', 'via', 'citta1', 'via1',\t'latitude1',\t'longitude1',\t'latitude2',\t'longitude2']]\n"
      ]
    },
    {
      "cell_type": "markdown",
      "metadata": {
        "id": "T6K26HoorJln"
      },
      "source": [
        "# Getting Addresses"
      ]
    },
    {
      "cell_type": "code",
      "execution_count": 130,
      "metadata": {
        "colab": {
          "base_uri": "https://localhost:8080/"
        },
        "id": "_nbKw42hVe3m",
        "outputId": "3f8a7a0c-6b4d-49de-d60d-c12274bf2c86"
      },
      "outputs": [
        {
          "name": "stdout",
          "output_type": "stream",
          "text": [
            "['44.63132962647193', '44.62351076751276', '44.626015360421746', '44.63657851360287', '44.64186127782942']\n"
          ]
        }
      ],
      "source": [
        "latitudeList1 = df['latitude1'].astype(str).tolist()\n",
        "print(latitudeList1)"
      ]
    },
    {
      "cell_type": "code",
      "execution_count": 131,
      "metadata": {
        "colab": {
          "base_uri": "https://localhost:8080/"
        },
        "id": "xW0zB7lecJCi",
        "outputId": "e16d63b3-b5d4-4e9d-e7f1-92a0ce5c05de"
      },
      "outputs": [
        {
          "name": "stdout",
          "output_type": "stream",
          "text": [
            "['11.339471589730946', '11.334665071393154', '11.317627680499378', '11.310847056415707', '11.353504907351091']\n"
          ]
        }
      ],
      "source": [
        "longitudeList1 = df['longitude1'].astype(str).tolist()\n",
        "print(longitudeList1)"
      ]
    },
    {
      "cell_type": "code",
      "execution_count": 132,
      "metadata": {
        "colab": {
          "base_uri": "https://localhost:8080/"
        },
        "id": "Xp9wXaGK6EQb",
        "outputId": "39943712-0df5-480c-b80b-39ce5095fc4b"
      },
      "outputs": [
        {
          "name": "stdout",
          "output_type": "stream",
          "text": [
            "44.63132962647193 11.339471589730946\n",
            "44.62351076751276 11.334665071393154\n",
            "44.626015360421746 11.317627680499378\n",
            "44.63657851360287 11.310847056415707\n",
            "44.64186127782942 11.353504907351091\n"
          ]
        }
      ],
      "source": [
        "# Loop each latitude and longitude\n",
        "listslen = len(latitudeList1)\n",
        "i = 0\n",
        "while (i < listslen):\n",
        "  latitude = latitudeList1[i]\n",
        "  longitude = longitudeList1[i]\n",
        "  print(latitude, longitude)\n",
        "\n",
        "  i += 1"
      ]
    },
    {
      "cell_type": "code",
      "execution_count": 133,
      "metadata": {
        "colab": {
          "base_uri": "https://localhost:8080/"
        },
        "id": "ePJFsLXI6m3n",
        "outputId": "84765c2d-0a1b-4c36-a2ff-d239f73d3acf"
      },
      "outputs": [
        {
          "name": "stdout",
          "output_type": "stream",
          "text": [
            "Città: Bologna\n",
            "Via: Via Canaletta 68\n",
            "{'house_number': '68', 'road': 'Via Canaletta', 'hamlet': \"Sant'Antonio\", 'village': 'Argelato', 'municipality': 'Unione Reno Galliera', 'county': 'Bologna', 'state': 'Emilia-Romagna', 'ISO3166-2-lvl4': 'IT-45', 'postcode': '40010', 'country': 'Italia', 'country_code': 'it'}\n",
            "Città: Bologna\n",
            "Via: Via Storta None\n",
            "{'road': 'Via Storta', 'hamlet': 'Quattro Portoni', 'village': 'Argelato', 'municipality': 'Unione Reno Galliera', 'county': 'Bologna', 'state': 'Emilia-Romagna', 'ISO3166-2-lvl4': 'IT-45', 'postcode': '40010', 'country': 'Italia', 'country_code': 'it'}\n",
            "Città: Bologna\n",
            "Via: Via Storta 11/2\n",
            "{'house_number': '11/2', 'road': 'Via Storta', 'hamlet': 'Quattro Portoni', 'village': 'Argelato', 'municipality': 'Unione Reno Galliera', 'county': 'Bologna', 'state': 'Emilia-Romagna', 'ISO3166-2-lvl4': 'IT-45', 'postcode': '40010', 'country': 'Italia', 'country_code': 'it'}\n",
            "Città: Bologna\n",
            "Via: Via Venenta 50\n",
            "{'house_number': '50', 'road': 'Via Venenta', 'hamlet': \"Sant'Anna\", 'village': 'Argelato', 'municipality': 'Unione Reno Galliera', 'county': 'Bologna', 'state': 'Emilia-Romagna', 'ISO3166-2-lvl4': 'IT-45', 'postcode': '40010', 'country': 'Italia', 'country_code': 'it'}\n",
            "Città: Bologna\n",
            "Via: Via Selvatico None\n",
            "{'road': 'Via Selvatico', 'village': 'San Giorgio di Piano', 'municipality': 'Unione Reno Galliera', 'county': 'Bologna', 'state': 'Emilia-Romagna', 'ISO3166-2-lvl4': 'IT-45', 'postcode': '40010', 'country': 'Italia', 'country_code': 'it'}\n"
          ]
        }
      ],
      "source": [
        "# Loop each latitude and longitude inside the geolocator Nominatim API and display the location informations\n",
        "listslen = len(latitudeList1)\n",
        "i = 0\n",
        "while (i < listslen):\n",
        "  Latitude = latitudeList1[i]\n",
        "  Longitude = longitudeList1[i]\n",
        "\n",
        "  location = geolocator.reverse(Latitude+\",\"+Longitude)\n",
        "\n",
        "  # get all raw information about the location\n",
        "  address = location.raw['address']\n",
        "\n",
        "  # Get the city and the street\n",
        "  citta = address.get('county')\n",
        "  via = address.get('road')\n",
        "  numero = address.get('house_number')\n",
        "  print(\"Città:\", citta)\n",
        "  print(\"Via:\", via, numero)\n",
        "  # print(\"Numero:\", numero)\n",
        "  \n",
        "  # Display\n",
        "  print(address)\n",
        "\n",
        "  df.iloc[i,3] = citta\n",
        "  df.iloc[i,4] =  f'{via}, {numero}'\n",
        "\n",
        "  # get all latitudine and longitude coordinates\n",
        "  i += 1"
      ]
    },
    {
      "cell_type": "code",
      "execution_count": 134,
      "metadata": {},
      "outputs": [
        {
          "data": {
            "text/html": [
              "<div>\n",
              "<style scoped>\n",
              "    .dataframe tbody tr th:only-of-type {\n",
              "        vertical-align: middle;\n",
              "    }\n",
              "\n",
              "    .dataframe tbody tr th {\n",
              "        vertical-align: top;\n",
              "    }\n",
              "\n",
              "    .dataframe thead th {\n",
              "        text-align: right;\n",
              "    }\n",
              "</style>\n",
              "<table border=\"1\" class=\"dataframe\">\n",
              "  <thead>\n",
              "    <tr style=\"text-align: right;\">\n",
              "      <th></th>\n",
              "      <th>Id</th>\n",
              "      <th>cordinates1</th>\n",
              "      <th>cordinates2</th>\n",
              "      <th>citta</th>\n",
              "      <th>via</th>\n",
              "      <th>citta1</th>\n",
              "      <th>via1</th>\n",
              "      <th>latitude1</th>\n",
              "      <th>longitude1</th>\n",
              "      <th>latitude2</th>\n",
              "      <th>longitude2</th>\n",
              "    </tr>\n",
              "  </thead>\n",
              "  <tbody>\n",
              "    <tr>\n",
              "      <th>0</th>\n",
              "      <td>1</td>\n",
              "      <td>44.63132962647193, 11.339471589730946</td>\n",
              "      <td>44.64634972248713, 11.37285972672916</td>\n",
              "      <td>Bologna</td>\n",
              "      <td>Via Canaletta, 68</td>\n",
              "      <td></td>\n",
              "      <td></td>\n",
              "      <td>44.63132962647193</td>\n",
              "      <td>11.339471589730946</td>\n",
              "      <td>44.64634972248713</td>\n",
              "      <td>11.37285972672916</td>\n",
              "    </tr>\n",
              "    <tr>\n",
              "      <th>1</th>\n",
              "      <td>2</td>\n",
              "      <td>44.62351076751276, 11.334665071393154</td>\n",
              "      <td>44.6505630484293, 11.378524552402936</td>\n",
              "      <td>Bologna</td>\n",
              "      <td>Via Storta, None</td>\n",
              "      <td></td>\n",
              "      <td></td>\n",
              "      <td>44.62351076751276</td>\n",
              "      <td>11.334665071393154</td>\n",
              "      <td>44.6505630484293</td>\n",
              "      <td>11.378524552402936</td>\n",
              "    </tr>\n",
              "    <tr>\n",
              "      <th>2</th>\n",
              "      <td>3</td>\n",
              "      <td>44.626015360421746, 11.317627680499378</td>\n",
              "      <td>44.653799163601455, 11.374705087189843</td>\n",
              "      <td>Bologna</td>\n",
              "      <td>Via Storta, 11/2</td>\n",
              "      <td></td>\n",
              "      <td></td>\n",
              "      <td>44.626015360421746</td>\n",
              "      <td>11.317627680499378</td>\n",
              "      <td>44.653799163601455</td>\n",
              "      <td>11.374705087189843</td>\n",
              "    </tr>\n",
              "    <tr>\n",
              "      <th>3</th>\n",
              "      <td>4</td>\n",
              "      <td>44.63657851360287, 11.310847056415707</td>\n",
              "      <td>44.65364840503052, 11.322882840901768</td>\n",
              "      <td>Bologna</td>\n",
              "      <td>Via Venenta, 50</td>\n",
              "      <td></td>\n",
              "      <td></td>\n",
              "      <td>44.63657851360287</td>\n",
              "      <td>11.310847056415707</td>\n",
              "      <td>44.65364840503052</td>\n",
              "      <td>11.322882840901768</td>\n",
              "    </tr>\n",
              "    <tr>\n",
              "      <th>4</th>\n",
              "      <td>5</td>\n",
              "      <td>44.64186127782942, 11.353504907351091</td>\n",
              "      <td>44.662920730180915, 11.286158036721273</td>\n",
              "      <td>Bologna</td>\n",
              "      <td>Via Selvatico, None</td>\n",
              "      <td></td>\n",
              "      <td></td>\n",
              "      <td>44.64186127782942</td>\n",
              "      <td>11.353504907351091</td>\n",
              "      <td>44.662920730180915</td>\n",
              "      <td>11.286158036721273</td>\n",
              "    </tr>\n",
              "  </tbody>\n",
              "</table>\n",
              "</div>"
            ],
            "text/plain": [
              "   Id                             cordinates1  \\\n",
              "0   1   44.63132962647193, 11.339471589730946   \n",
              "1   2   44.62351076751276, 11.334665071393154   \n",
              "2   3  44.626015360421746, 11.317627680499378   \n",
              "3   4   44.63657851360287, 11.310847056415707   \n",
              "4   5   44.64186127782942, 11.353504907351091   \n",
              "\n",
              "                              cordinates2    citta                  via  \\\n",
              "0    44.64634972248713, 11.37285972672916  Bologna    Via Canaletta, 68   \n",
              "1    44.6505630484293, 11.378524552402936  Bologna     Via Storta, None   \n",
              "2  44.653799163601455, 11.374705087189843  Bologna     Via Storta, 11/2   \n",
              "3   44.65364840503052, 11.322882840901768  Bologna      Via Venenta, 50   \n",
              "4  44.662920730180915, 11.286158036721273  Bologna  Via Selvatico, None   \n",
              "\n",
              "  citta1 via1           latitude1          longitude1           latitude2  \\\n",
              "0               44.63132962647193  11.339471589730946   44.64634972248713   \n",
              "1               44.62351076751276  11.334665071393154    44.6505630484293   \n",
              "2              44.626015360421746  11.317627680499378  44.653799163601455   \n",
              "3               44.63657851360287  11.310847056415707   44.65364840503052   \n",
              "4               44.64186127782942  11.353504907351091  44.662920730180915   \n",
              "\n",
              "           longitude2  \n",
              "0   11.37285972672916  \n",
              "1  11.378524552402936  \n",
              "2  11.374705087189843  \n",
              "3  11.322882840901768  \n",
              "4  11.286158036721273  "
            ]
          },
          "execution_count": 134,
          "metadata": {},
          "output_type": "execute_result"
        }
      ],
      "source": [
        "df.head()"
      ]
    },
    {
      "cell_type": "code",
      "execution_count": 135,
      "metadata": {
        "colab": {
          "base_uri": "https://localhost:8080/"
        },
        "id": "VC71ugtNojYq",
        "outputId": "bf4d43a2-e211-4437-8ff9-c411bb744a96"
      },
      "outputs": [
        {
          "name": "stdout",
          "output_type": "stream",
          "text": [
            "['44.64634972248713', '44.6505630484293', '44.653799163601455', '44.65364840503052', '44.662920730180915']\n"
          ]
        }
      ],
      "source": [
        "latitudeList2 = df['latitude2'].astype(str).tolist()\n",
        "print(latitudeList2)"
      ]
    },
    {
      "cell_type": "code",
      "execution_count": 136,
      "metadata": {
        "colab": {
          "base_uri": "https://localhost:8080/"
        },
        "id": "ov4evgg9opWU",
        "outputId": "4bd8949a-5612-49e5-ca9b-37475962cd6b"
      },
      "outputs": [
        {
          "name": "stdout",
          "output_type": "stream",
          "text": [
            "['11.37285972672916', '11.378524552402936', '11.374705087189843', '11.322882840901768', '11.286158036721273']\n"
          ]
        }
      ],
      "source": [
        "longitudeList2 = df['longitude2'].astype(str).tolist()\n",
        "print(longitudeList2)"
      ]
    },
    {
      "cell_type": "code",
      "execution_count": 137,
      "metadata": {
        "colab": {
          "base_uri": "https://localhost:8080/"
        },
        "id": "R4Eid_aeou29",
        "outputId": "4f8096e4-14d6-450e-cf16-4285a0f25e08"
      },
      "outputs": [
        {
          "name": "stdout",
          "output_type": "stream",
          "text": [
            "44.64634972248713 11.37285972672916\n",
            "44.6505630484293 11.378524552402936\n",
            "44.653799163601455 11.374705087189843\n",
            "44.65364840503052 11.322882840901768\n",
            "44.662920730180915 11.286158036721273\n"
          ]
        }
      ],
      "source": [
        "# Loop each latitude and longitude\n",
        "listslen = len(latitudeList2)\n",
        "i = 0\n",
        "while (i < listslen):\n",
        "  latitude = latitudeList2[i]\n",
        "  longitude = longitudeList2[i]\n",
        "  print(latitude, longitude)\n",
        "\n",
        "  i += 1"
      ]
    },
    {
      "cell_type": "code",
      "execution_count": 138,
      "metadata": {
        "colab": {
          "base_uri": "https://localhost:8080/"
        },
        "id": "NkVXkBVLo6ri",
        "outputId": "4613e1ef-42e5-4c92-f382-dc4f5be85878"
      },
      "outputs": [
        {
          "name": "stdout",
          "output_type": "stream",
          "text": [
            "Città: Bologna\n",
            "Via: Viale della Rimembranza None\n",
            "{'road': 'Viale della Rimembranza', 'village': 'San Giorgio di Piano', 'municipality': 'Unione Reno Galliera', 'county': 'Bologna', 'state': 'Emilia-Romagna', 'ISO3166-2-lvl4': 'IT-45', 'postcode': '40016', 'country': 'Italia', 'country_code': 'it'}\n",
            "Città: Bologna\n",
            "Via: Via dell'Artigiano None\n",
            "{'shop': 'Centro Cabiria', 'road': \"Via dell'Artigiano\", 'village': 'San Giorgio di Piano', 'municipality': 'Unione Reno Galliera', 'county': 'Bologna', 'state': 'Emilia-Romagna', 'ISO3166-2-lvl4': 'IT-45', 'postcode': '40016', 'country': 'Italia', 'country_code': 'it'}\n",
            "Città: Bologna\n",
            "Via: Via Codini 2/4\n",
            "{'house_number': '2/4', 'road': 'Via Codini', 'village': 'San Giorgio di Piano', 'municipality': 'Unione Reno Galliera', 'county': 'Bologna', 'state': 'Emilia-Romagna', 'ISO3166-2-lvl4': 'IT-45', 'postcode': '40016', 'country': 'Italia', 'country_code': 'it'}\n",
            "Città: Bologna\n",
            "Via: Via della Costituzione 10\n",
            "{'house_number': '10', 'road': 'Via della Costituzione', 'village': 'Volta Reno', 'municipality': 'Unione Reno Galliera', 'county': 'Bologna', 'state': 'Emilia-Romagna', 'ISO3166-2-lvl4': 'IT-45', 'postcode': '40010', 'country': 'Italia', 'country_code': 'it'}\n",
            "Città: Bologna\n",
            "Via: None None\n",
            "{'city': 'Sala Bolognese', 'municipality': \"Unione Terre d'Acqua\", 'county': 'Bologna', 'state': 'Emilia-Romagna', 'ISO3166-2-lvl4': 'IT-45', 'postcode': '40010', 'country': 'Italia', 'country_code': 'it'}\n"
          ]
        }
      ],
      "source": [
        "# Loop each latitude and longitude inside the geolocator Nominatim API and display the location informations\n",
        "listslen = len(latitudeList2)\n",
        "i = 0\n",
        "while (i < listslen):\n",
        "  Latitude = latitudeList2[i]\n",
        "  Longitude = longitudeList2[i]\n",
        "\n",
        "  location = geolocator.reverse(Latitude+\",\"+Longitude)\n",
        "\n",
        "  # get all raw information about the location\n",
        "  address = location.raw['address']\n",
        "\n",
        "  # Get the city and the street\n",
        "  citta1 = address.get('county')\n",
        "  via1 = address.get('road')\n",
        "  numero1 = address.get('house_number')\n",
        "  print(\"Città:\", citta1)\n",
        "  print(\"Via:\", via1, numero1)\n",
        "  # print(\"Numero:\", numero)\n",
        "  \n",
        "  # Display\n",
        "  print(address)\n",
        "\n",
        "  df.iloc[i,5] = citta1\n",
        "  df.iloc[i,6] =  f'{via1}, {numero1}'\n",
        "\n",
        "  # get all latitudine and longitude coordinates\n",
        "  i += 1"
      ]
    },
    {
      "cell_type": "code",
      "execution_count": 139,
      "metadata": {
        "colab": {
          "base_uri": "https://localhost:8080/",
          "height": 496
        },
        "id": "0cOdiguWquAC",
        "outputId": "9eaf37ab-1f3d-42a0-a6e0-8bdf803274c5"
      },
      "outputs": [
        {
          "data": {
            "text/html": [
              "<div>\n",
              "<style scoped>\n",
              "    .dataframe tbody tr th:only-of-type {\n",
              "        vertical-align: middle;\n",
              "    }\n",
              "\n",
              "    .dataframe tbody tr th {\n",
              "        vertical-align: top;\n",
              "    }\n",
              "\n",
              "    .dataframe thead th {\n",
              "        text-align: right;\n",
              "    }\n",
              "</style>\n",
              "<table border=\"1\" class=\"dataframe\">\n",
              "  <thead>\n",
              "    <tr style=\"text-align: right;\">\n",
              "      <th></th>\n",
              "      <th>Id</th>\n",
              "      <th>cordinates1</th>\n",
              "      <th>cordinates2</th>\n",
              "      <th>citta</th>\n",
              "      <th>via</th>\n",
              "      <th>citta1</th>\n",
              "      <th>via1</th>\n",
              "      <th>latitude1</th>\n",
              "      <th>longitude1</th>\n",
              "      <th>latitude2</th>\n",
              "      <th>longitude2</th>\n",
              "    </tr>\n",
              "  </thead>\n",
              "  <tbody>\n",
              "    <tr>\n",
              "      <th>0</th>\n",
              "      <td>1</td>\n",
              "      <td>44.63132962647193, 11.339471589730946</td>\n",
              "      <td>44.64634972248713, 11.37285972672916</td>\n",
              "      <td>Bologna</td>\n",
              "      <td>Via Canaletta, 68</td>\n",
              "      <td>Bologna</td>\n",
              "      <td>Viale della Rimembranza, None</td>\n",
              "      <td>44.63132962647193</td>\n",
              "      <td>11.339471589730946</td>\n",
              "      <td>44.64634972248713</td>\n",
              "      <td>11.37285972672916</td>\n",
              "    </tr>\n",
              "    <tr>\n",
              "      <th>1</th>\n",
              "      <td>2</td>\n",
              "      <td>44.62351076751276, 11.334665071393154</td>\n",
              "      <td>44.6505630484293, 11.378524552402936</td>\n",
              "      <td>Bologna</td>\n",
              "      <td>Via Storta, None</td>\n",
              "      <td>Bologna</td>\n",
              "      <td>Via dell'Artigiano, None</td>\n",
              "      <td>44.62351076751276</td>\n",
              "      <td>11.334665071393154</td>\n",
              "      <td>44.6505630484293</td>\n",
              "      <td>11.378524552402936</td>\n",
              "    </tr>\n",
              "    <tr>\n",
              "      <th>2</th>\n",
              "      <td>3</td>\n",
              "      <td>44.626015360421746, 11.317627680499378</td>\n",
              "      <td>44.653799163601455, 11.374705087189843</td>\n",
              "      <td>Bologna</td>\n",
              "      <td>Via Storta, 11/2</td>\n",
              "      <td>Bologna</td>\n",
              "      <td>Via Codini, 2/4</td>\n",
              "      <td>44.626015360421746</td>\n",
              "      <td>11.317627680499378</td>\n",
              "      <td>44.653799163601455</td>\n",
              "      <td>11.374705087189843</td>\n",
              "    </tr>\n",
              "    <tr>\n",
              "      <th>3</th>\n",
              "      <td>4</td>\n",
              "      <td>44.63657851360287, 11.310847056415707</td>\n",
              "      <td>44.65364840503052, 11.322882840901768</td>\n",
              "      <td>Bologna</td>\n",
              "      <td>Via Venenta, 50</td>\n",
              "      <td>Bologna</td>\n",
              "      <td>Via della Costituzione, 10</td>\n",
              "      <td>44.63657851360287</td>\n",
              "      <td>11.310847056415707</td>\n",
              "      <td>44.65364840503052</td>\n",
              "      <td>11.322882840901768</td>\n",
              "    </tr>\n",
              "    <tr>\n",
              "      <th>4</th>\n",
              "      <td>5</td>\n",
              "      <td>44.64186127782942, 11.353504907351091</td>\n",
              "      <td>44.662920730180915, 11.286158036721273</td>\n",
              "      <td>Bologna</td>\n",
              "      <td>Via Selvatico, None</td>\n",
              "      <td>Bologna</td>\n",
              "      <td>None, None</td>\n",
              "      <td>44.64186127782942</td>\n",
              "      <td>11.353504907351091</td>\n",
              "      <td>44.662920730180915</td>\n",
              "      <td>11.286158036721273</td>\n",
              "    </tr>\n",
              "  </tbody>\n",
              "</table>\n",
              "</div>"
            ],
            "text/plain": [
              "   Id                             cordinates1  \\\n",
              "0   1   44.63132962647193, 11.339471589730946   \n",
              "1   2   44.62351076751276, 11.334665071393154   \n",
              "2   3  44.626015360421746, 11.317627680499378   \n",
              "3   4   44.63657851360287, 11.310847056415707   \n",
              "4   5   44.64186127782942, 11.353504907351091   \n",
              "\n",
              "                              cordinates2    citta                  via  \\\n",
              "0    44.64634972248713, 11.37285972672916  Bologna    Via Canaletta, 68   \n",
              "1    44.6505630484293, 11.378524552402936  Bologna     Via Storta, None   \n",
              "2  44.653799163601455, 11.374705087189843  Bologna     Via Storta, 11/2   \n",
              "3   44.65364840503052, 11.322882840901768  Bologna      Via Venenta, 50   \n",
              "4  44.662920730180915, 11.286158036721273  Bologna  Via Selvatico, None   \n",
              "\n",
              "    citta1                           via1           latitude1  \\\n",
              "0  Bologna  Viale della Rimembranza, None   44.63132962647193   \n",
              "1  Bologna       Via dell'Artigiano, None   44.62351076751276   \n",
              "2  Bologna                Via Codini, 2/4  44.626015360421746   \n",
              "3  Bologna     Via della Costituzione, 10   44.63657851360287   \n",
              "4  Bologna                     None, None   44.64186127782942   \n",
              "\n",
              "           longitude1           latitude2          longitude2  \n",
              "0  11.339471589730946   44.64634972248713   11.37285972672916  \n",
              "1  11.334665071393154    44.6505630484293  11.378524552402936  \n",
              "2  11.317627680499378  44.653799163601455  11.374705087189843  \n",
              "3  11.310847056415707   44.65364840503052  11.322882840901768  \n",
              "4  11.353504907351091  44.662920730180915  11.286158036721273  "
            ]
          },
          "execution_count": 139,
          "metadata": {},
          "output_type": "execute_result"
        }
      ],
      "source": [
        "df.head()"
      ]
    },
    {
      "cell_type": "markdown",
      "metadata": {
        "id": "Zn3euyO9rS4F"
      },
      "source": [
        "# Calculate Kilometers between coordinates"
      ]
    },
    {
      "cell_type": "code",
      "execution_count": 140,
      "metadata": {
        "id": "70Sqim1ztpCw"
      },
      "outputs": [],
      "source": [
        "# Create column distance km\n",
        "df['distance km'] = \"\""
      ]
    },
    {
      "cell_type": "code",
      "execution_count": 141,
      "metadata": {
        "colab": {
          "base_uri": "https://localhost:8080/"
        },
        "id": "tcbs7NAvv0ex",
        "outputId": "2540f867-c13a-4175-abec-3c629a59863b"
      },
      "outputs": [
        {
          "name": "stdout",
          "output_type": "stream",
          "text": [
            "['44.63132962647193, 11.339471589730946', '44.62351076751276, 11.334665071393154', '44.626015360421746, 11.317627680499378', '44.63657851360287, 11.310847056415707', '44.64186127782942, 11.353504907351091']\n"
          ]
        }
      ],
      "source": [
        "cordinateList1 = df['cordinates1'].astype(str).tolist()\n",
        "print(cordinateList1)"
      ]
    },
    {
      "cell_type": "code",
      "execution_count": 142,
      "metadata": {
        "colab": {
          "base_uri": "https://localhost:8080/"
        },
        "id": "7G6gtcy6wZtJ",
        "outputId": "a1f41b3e-4231-4540-cb61-5774f8662d9b"
      },
      "outputs": [
        {
          "name": "stdout",
          "output_type": "stream",
          "text": [
            "['44.64634972248713, 11.37285972672916', '44.6505630484293, 11.378524552402936', '44.653799163601455, 11.374705087189843', '44.65364840503052, 11.322882840901768', '44.662920730180915, 11.286158036721273']\n"
          ]
        }
      ],
      "source": [
        "cordinateList2 = df['cordinates2'].astype(str).tolist()\n",
        "print(cordinateList2)"
      ]
    },
    {
      "cell_type": "code",
      "execution_count": 143,
      "metadata": {
        "colab": {
          "base_uri": "https://localhost:8080/"
        },
        "id": "6MuNUAZdwhZA",
        "outputId": "2bd2ad14-de1a-4d1c-f782-2f83ba0e1d59"
      },
      "outputs": [
        {
          "name": "stdout",
          "output_type": "stream",
          "text": [
            "44.63132962647193, 11.339471589730946\n",
            "44.62351076751276, 11.334665071393154\n",
            "44.626015360421746, 11.317627680499378\n",
            "44.63657851360287, 11.310847056415707\n",
            "44.64186127782942, 11.353504907351091\n"
          ]
        }
      ],
      "source": [
        "# Loop coordinates1\n",
        "listslen = len(cordinateList1)\n",
        "i = 0\n",
        "while (i < listslen):\n",
        "  cordinate1 = cordinateList1[i]\n",
        "\n",
        "  print(cordinate1)\n",
        "  \n",
        "  i += 1"
      ]
    },
    {
      "cell_type": "code",
      "execution_count": 144,
      "metadata": {
        "colab": {
          "base_uri": "https://localhost:8080/"
        },
        "id": "IQVUFBwGxeMg",
        "outputId": "19feec77-27bf-4ce0-98e5-54e02b819f7b"
      },
      "outputs": [
        {
          "name": "stdout",
          "output_type": "stream",
          "text": [
            "44.64634972248713, 11.37285972672916\n",
            "44.6505630484293, 11.378524552402936\n",
            "44.653799163601455, 11.374705087189843\n",
            "44.65364840503052, 11.322882840901768\n",
            "44.662920730180915, 11.286158036721273\n"
          ]
        }
      ],
      "source": [
        "# Loop coordinates2\n",
        "listslen = len(cordinateList2)\n",
        "i = 0\n",
        "while (i < listslen):\n",
        "  cordinate2 = cordinateList2[i]\n",
        "\n",
        "  print(cordinate2)\n",
        "\n",
        "  i += 1"
      ]
    },
    {
      "cell_type": "code",
      "execution_count": 145,
      "metadata": {
        "colab": {
          "base_uri": "https://localhost:8080/"
        },
        "id": "jJj47zgGw8q4",
        "outputId": "e9b9cf14-a8b4-48ef-9cfe-e94598c5b056"
      },
      "outputs": [
        {
          "name": "stdout",
          "output_type": "stream",
          "text": [
            "3.131020895027707\n",
            "4.598598792239113\n",
            "5.480831704919054\n",
            "2.123646743852986\n",
            "5.832210313481018\n"
          ]
        }
      ],
      "source": [
        "# Loop each latitude and longitude inside the geopy API and calculate the km\n",
        "listslen = len(cordinateList1)\n",
        "i = 0\n",
        "while (i < listslen):\n",
        "  coords_1 = cordinateList1[i]\n",
        "  coords_2 = cordinateList2[i]\n",
        "\n",
        "  result = geopy.distance.distance(coords_1, coords_2).km\n",
        "  \n",
        "  print(result)\n",
        "\n",
        "  df.iloc[i,11] = result\n",
        "\n",
        "  i += 1"
      ]
    },
    {
      "cell_type": "code",
      "execution_count": 146,
      "metadata": {
        "colab": {
          "base_uri": "https://localhost:8080/",
          "height": 513
        },
        "id": "yJEtWXs6zpF-",
        "outputId": "639d0af7-bc75-40a3-bf8f-2e4e6f6a29c9"
      },
      "outputs": [
        {
          "data": {
            "text/html": [
              "<div>\n",
              "<style scoped>\n",
              "    .dataframe tbody tr th:only-of-type {\n",
              "        vertical-align: middle;\n",
              "    }\n",
              "\n",
              "    .dataframe tbody tr th {\n",
              "        vertical-align: top;\n",
              "    }\n",
              "\n",
              "    .dataframe thead th {\n",
              "        text-align: right;\n",
              "    }\n",
              "</style>\n",
              "<table border=\"1\" class=\"dataframe\">\n",
              "  <thead>\n",
              "    <tr style=\"text-align: right;\">\n",
              "      <th></th>\n",
              "      <th>Id</th>\n",
              "      <th>cordinates1</th>\n",
              "      <th>cordinates2</th>\n",
              "      <th>citta</th>\n",
              "      <th>via</th>\n",
              "      <th>citta1</th>\n",
              "      <th>via1</th>\n",
              "      <th>latitude1</th>\n",
              "      <th>longitude1</th>\n",
              "      <th>latitude2</th>\n",
              "      <th>longitude2</th>\n",
              "      <th>distance km</th>\n",
              "    </tr>\n",
              "  </thead>\n",
              "  <tbody>\n",
              "    <tr>\n",
              "      <th>0</th>\n",
              "      <td>1</td>\n",
              "      <td>44.63132962647193, 11.339471589730946</td>\n",
              "      <td>44.64634972248713, 11.37285972672916</td>\n",
              "      <td>Bologna</td>\n",
              "      <td>Via Canaletta, 68</td>\n",
              "      <td>Bologna</td>\n",
              "      <td>Viale della Rimembranza, None</td>\n",
              "      <td>44.63132962647193</td>\n",
              "      <td>11.339471589730946</td>\n",
              "      <td>44.64634972248713</td>\n",
              "      <td>11.37285972672916</td>\n",
              "      <td>3.131021</td>\n",
              "    </tr>\n",
              "    <tr>\n",
              "      <th>1</th>\n",
              "      <td>2</td>\n",
              "      <td>44.62351076751276, 11.334665071393154</td>\n",
              "      <td>44.6505630484293, 11.378524552402936</td>\n",
              "      <td>Bologna</td>\n",
              "      <td>Via Storta, None</td>\n",
              "      <td>Bologna</td>\n",
              "      <td>Via dell'Artigiano, None</td>\n",
              "      <td>44.62351076751276</td>\n",
              "      <td>11.334665071393154</td>\n",
              "      <td>44.6505630484293</td>\n",
              "      <td>11.378524552402936</td>\n",
              "      <td>4.598599</td>\n",
              "    </tr>\n",
              "    <tr>\n",
              "      <th>2</th>\n",
              "      <td>3</td>\n",
              "      <td>44.626015360421746, 11.317627680499378</td>\n",
              "      <td>44.653799163601455, 11.374705087189843</td>\n",
              "      <td>Bologna</td>\n",
              "      <td>Via Storta, 11/2</td>\n",
              "      <td>Bologna</td>\n",
              "      <td>Via Codini, 2/4</td>\n",
              "      <td>44.626015360421746</td>\n",
              "      <td>11.317627680499378</td>\n",
              "      <td>44.653799163601455</td>\n",
              "      <td>11.374705087189843</td>\n",
              "      <td>5.480832</td>\n",
              "    </tr>\n",
              "    <tr>\n",
              "      <th>3</th>\n",
              "      <td>4</td>\n",
              "      <td>44.63657851360287, 11.310847056415707</td>\n",
              "      <td>44.65364840503052, 11.322882840901768</td>\n",
              "      <td>Bologna</td>\n",
              "      <td>Via Venenta, 50</td>\n",
              "      <td>Bologna</td>\n",
              "      <td>Via della Costituzione, 10</td>\n",
              "      <td>44.63657851360287</td>\n",
              "      <td>11.310847056415707</td>\n",
              "      <td>44.65364840503052</td>\n",
              "      <td>11.322882840901768</td>\n",
              "      <td>2.123647</td>\n",
              "    </tr>\n",
              "    <tr>\n",
              "      <th>4</th>\n",
              "      <td>5</td>\n",
              "      <td>44.64186127782942, 11.353504907351091</td>\n",
              "      <td>44.662920730180915, 11.286158036721273</td>\n",
              "      <td>Bologna</td>\n",
              "      <td>Via Selvatico, None</td>\n",
              "      <td>Bologna</td>\n",
              "      <td>None, None</td>\n",
              "      <td>44.64186127782942</td>\n",
              "      <td>11.353504907351091</td>\n",
              "      <td>44.662920730180915</td>\n",
              "      <td>11.286158036721273</td>\n",
              "      <td>5.83221</td>\n",
              "    </tr>\n",
              "  </tbody>\n",
              "</table>\n",
              "</div>"
            ],
            "text/plain": [
              "   Id                             cordinates1  \\\n",
              "0   1   44.63132962647193, 11.339471589730946   \n",
              "1   2   44.62351076751276, 11.334665071393154   \n",
              "2   3  44.626015360421746, 11.317627680499378   \n",
              "3   4   44.63657851360287, 11.310847056415707   \n",
              "4   5   44.64186127782942, 11.353504907351091   \n",
              "\n",
              "                              cordinates2    citta                  via  \\\n",
              "0    44.64634972248713, 11.37285972672916  Bologna    Via Canaletta, 68   \n",
              "1    44.6505630484293, 11.378524552402936  Bologna     Via Storta, None   \n",
              "2  44.653799163601455, 11.374705087189843  Bologna     Via Storta, 11/2   \n",
              "3   44.65364840503052, 11.322882840901768  Bologna      Via Venenta, 50   \n",
              "4  44.662920730180915, 11.286158036721273  Bologna  Via Selvatico, None   \n",
              "\n",
              "    citta1                           via1           latitude1  \\\n",
              "0  Bologna  Viale della Rimembranza, None   44.63132962647193   \n",
              "1  Bologna       Via dell'Artigiano, None   44.62351076751276   \n",
              "2  Bologna                Via Codini, 2/4  44.626015360421746   \n",
              "3  Bologna     Via della Costituzione, 10   44.63657851360287   \n",
              "4  Bologna                     None, None   44.64186127782942   \n",
              "\n",
              "           longitude1           latitude2          longitude2 distance km  \n",
              "0  11.339471589730946   44.64634972248713   11.37285972672916    3.131021  \n",
              "1  11.334665071393154    44.6505630484293  11.378524552402936    4.598599  \n",
              "2  11.317627680499378  44.653799163601455  11.374705087189843    5.480832  \n",
              "3  11.310847056415707   44.65364840503052  11.322882840901768    2.123647  \n",
              "4  11.353504907351091  44.662920730180915  11.286158036721273     5.83221  "
            ]
          },
          "execution_count": 146,
          "metadata": {},
          "output_type": "execute_result"
        }
      ],
      "source": [
        "df.head()"
      ]
    },
    {
      "cell_type": "markdown",
      "metadata": {
        "id": "6letkZWQ1aTZ"
      },
      "source": [
        "# Export File Excel"
      ]
    },
    {
      "cell_type": "code",
      "execution_count": 147,
      "metadata": {
        "id": "bh9xcnAE1hUM"
      },
      "outputs": [],
      "source": [
        "# Save the results\n",
        "df.to_excel(\"results.xlsx\")  "
      ]
    }
  ],
  "metadata": {
    "colab": {
      "collapsed_sections": [],
      "name": "Get street names.ipynb",
      "provenance": [],
      "toc_visible": true
    },
    "interpreter": {
      "hash": "aba1b96079f96cf3dc3ffa036a5ba3c56aa5dab1830a568a22ee3d31abfef168"
    },
    "kernelspec": {
      "display_name": "Python 3.9.5 ('data_analysis1')",
      "language": "python",
      "name": "python3"
    },
    "language_info": {
      "codemirror_mode": {
        "name": "ipython",
        "version": 3
      },
      "file_extension": ".py",
      "mimetype": "text/x-python",
      "name": "python",
      "nbconvert_exporter": "python",
      "pygments_lexer": "ipython3",
      "version": "3.9.5"
    }
  },
  "nbformat": 4,
  "nbformat_minor": 0
}
